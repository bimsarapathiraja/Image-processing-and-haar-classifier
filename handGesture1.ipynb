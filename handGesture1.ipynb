{
 "cells": [
  {
   "cell_type": "code",
   "execution_count": 11,
   "metadata": {},
   "outputs": [],
   "source": [
    "import numpy as np\n",
    "import cv2\n",
    "import math\n",
    "import time\n",
    "import collections"
   ]
  },
  {
   "cell_type": "code",
   "execution_count": 12,
   "metadata": {},
   "outputs": [],
   "source": [
    "roi_count = 0\n",
    "last_roi = None\n",
    "state = True\n",
    "state_count = 10\n",
    "frame_no = 0\n",
    "gesture_list = []"
   ]
  },
  {
   "cell_type": "code",
   "execution_count": 13,
   "metadata": {},
   "outputs": [],
   "source": [
    "hand_cascade = cv2.CascadeClassifier('aGest.xml')\n",
    "cap = cv2.VideoCapture(0)"
   ]
  },
  {
   "cell_type": "code",
   "execution_count": 14,
   "metadata": {},
   "outputs": [],
   "source": [
    "def getROI(frame, hand_cascade):\n",
    "    gray = cv2.cvtColor(frame, cv2.COLOR_BGR2GRAY)\n",
    "    rois = cascade.detectMultiScale(gray, 1.3, 5)\n",
    "    if len(rois) > 0:\n",
    "        return rois[0]\n",
    "    \n",
    "    return None"
   ]
  },
  {
   "cell_type": "code",
   "execution_count": 18,
   "metadata": {},
   "outputs": [],
   "source": [
    "def detectGesture(src, roi_rect, thresh):\n",
    "    global gesture_list\n",
    "    p, q, r, s = roi_rect\n",
    "    image, contours, hierarchy = cv2.findContours(thresh.copy(), cv2.RETR_TREE, cv2.CHAIN_APPROX_NONE)\n",
    "    line_count = 0;\n",
    "    \n",
    "    if len(countours):\n",
    "        cnt = max(contours, key = lambda x: cv2.contourArea(x))\n",
    "    \n",
    "        x, y, w, h = cv2.boundingRect(cnt)\n",
    "        cv2.rectangle(src, (p+x, p+y), (p+x+w, q+y+h), (0, 0, 255), 0)\n",
    "        \n",
    "        hull = cv2.convexHull(cnt)\n",
    "        \n",
    "        drawing = np.zeros(src.shape, np.uint8)\n",
    "        \n",
    "        hull = cv2.convexHull(cnt, returnPoints = False)\n",
    "        \n",
    "        defects = cv2.convexityDefects(cnt, hull)\n",
    "        count_defects = 0\n",
    "        \n",
    "        #cosine rule\n",
    "        \n",
    "        if (defects is not None and len(defects) > 0):\n",
    "            if(defects.shape[0] != None):\n",
    "                for i in range(defects.shape[0]):\n",
    "                    s, e, f, d = defects[i, 0]\n",
    "                    start = tuple(cnt[s][0])\n",
    "                    end = tuple(cnt[e][0])\n",
    "                    far = tuple(cnt[f][0])\n",
    "                    \n",
    "                    ls = [[start[0], start[1]], [end[0], end[1]], [far[0], far[1]]]\n",
    "                    ctr = np.array(ls).reshape((-1, 1, 2)).astype(np.int32)\n",
    "                    \n",
    "                    a = math.sqrt((end[0] - start[0])**2 + (end[1] - start[1])**2)\n",
    "                    b= math.sqrt((far[0] - start[0])**2 + (far[1] - start[1])**2)\n",
    "                    c = math.sqrt((end[0] - far[0])**2 + (end[1] - far[1])**2)\n",
    "                    \n",
    "                    #cosine rule\n",
    "                    angle = math.acos((b**2 + c**2 - a**2)/(2*b*c)) * 57\n",
    "                    \n",
    "                    if angle < 90 and cv2.contourArea(ctr) > 2000:\n",
    "                        count_defects += 1\n",
    "                        far = (far[0] + p, far[1] + q)\n",
    "                        cv2.circle(src, far, 1, [0, 0, 255], -1)\n",
    "                        \n",
    "                        \n",
    "                    start = (start[0] + p, start[1] + q)\n",
    "                    end = (end[0] + p, end[1] + q)\n",
    "                    \n",
    "                    cv2.line(src, start, end, [0, 255, 0], 2)\n",
    "                    \n",
    "                gesture_list.append(count_defects+1)\n",
    "                \n",
    "    cv2.imshow('frame', src)\n",
    "                        "
   ]
  },
  {
   "cell_type": "code",
   "execution_count": 15,
   "metadata": {},
   "outputs": [],
   "source": [
    "def gestureRecognition(src, roi_rect, hand_roi):\n",
    "    lower = np.array([0, 48, 80], dtype = \"uint8\")\n",
    "    upper = np.array([20, 255, 255], dtype = \"uint8\")\n",
    "    \n",
    "    converted = cv2.cvtColor(hand_roi, cv2.COLOR_BGR2HSV)\n",
    "    skinMask = cv2.inRange(converted, lower, upper)\n",
    "    \n",
    "    kernel = np.ones((5,5), np.uint8)\n",
    "    \n",
    "    img_dilated = cv2.dilate(skinMask, kernel, iterations = 3)\n",
    "    \n",
    "    detectGesture(src, roi_rect, img_dilated)"
   ]
  },
  {
   "cell_type": "code",
   "execution_count": null,
   "metadata": {},
   "outputs": [],
   "source": [
    "while True:\n",
    "    ret, frame = cap.read() #capture frame by frame\n",
    "    \n",
    "    roi = getROI(frame, hand_cascade) #get the ROI of palm ****\n",
    "    \n",
    "    if not(roi is None): #10 consecutive palm detections\n",
    "        if roi_count != 10:\n",
    "            roi_count += 1\n",
    "            \n",
    "        if roi_count == 10:\n",
    "            cv2.putText(frame, \"Event Detected\", (50,50), cv2.FONT_HERSHEY_SIMPLEX, 2, 1, 2)\n",
    "        \n",
    "        last_roi = roi\n",
    "        x, y, w, h = roi\n",
    "        frame = cv2.rectangle(frame, (x,y), (x+w, y+h), (255, 0, 0), 2)\n",
    "        state = True\n",
    "        \n",
    "    else:\n",
    "        \n",
    "        if (not state and state_count > 0):\n",
    "            #update boundary\n",
    "            x, y, w, h = last_roi\n",
    "            x = x - w\n",
    "            y = y - h\n",
    "            w = w * 3\n",
    "            h = h * 2\n",
    "            if x < 0:\n",
    "                x = 0\n",
    "            if y < 0:\n",
    "                y = 0\n",
    "                \n",
    "            state_count = state_count - 1\n",
    "            \n",
    "            roi_rect = x, y, w, h\n",
    "            \n",
    "            #hand gesture\n",
    "            \n",
    "            gestureRecognition(frame, roi_rect, frame[y:y+h, x:x+h])\n",
    "            \n",
    "        if (not state and state_count == 0):\n",
    "            "
   ]
  },
  {
   "cell_type": "code",
   "execution_count": 20,
   "metadata": {},
   "outputs": [],
   "source": [
    "cap.release()"
   ]
  },
  {
   "cell_type": "code",
   "execution_count": null,
   "metadata": {},
   "outputs": [],
   "source": []
  }
 ],
 "metadata": {
  "kernelspec": {
   "display_name": "Python 3",
   "language": "python",
   "name": "python3"
  },
  "language_info": {
   "codemirror_mode": {
    "name": "ipython",
    "version": 3
   },
   "file_extension": ".py",
   "mimetype": "text/x-python",
   "name": "python",
   "nbconvert_exporter": "python",
   "pygments_lexer": "ipython3",
   "version": "3.7.3"
  }
 },
 "nbformat": 4,
 "nbformat_minor": 2
}
